{
 "metadata": {
  "name": "",
  "signature": "sha256:0391dcae6778b74754bd9008152eca96a33b5a9ef44ae07b199bd1846daaba47"
 },
 "nbformat": 3,
 "nbformat_minor": 0,
 "worksheets": [
  {
   "cells": [
    {
     "cell_type": "code",
     "collapsed": false,
     "input": [
      "import cytoflow as cyto\n",
      "import FlowCytometryTools as fc\n",
      "\n",
      "# can't use inline!\n",
      "%matplotlib qt "
     ],
     "language": "python",
     "metadata": {},
     "outputs": [],
     "prompt_number": 1
    },
    {
     "cell_type": "code",
     "collapsed": false,
     "input": [
      "tube1 = fc.FCMeasurement(ID='Test 1', \n",
      "                       datafile='../../src/cytoflow/tests/data/Plate01/RFP_Well_A3.fcs')\n",
      "\n",
      "tube2 = fc.FCMeasurement(ID='Test 2', \n",
      "                       datafile='../../src/cytoflow/tests/data/Plate01/CFP_Well_A4.fcs')"
     ],
     "language": "python",
     "metadata": {},
     "outputs": [],
     "prompt_number": 2
    },
    {
     "cell_type": "code",
     "collapsed": false,
     "input": [
      "ex = cyto.Experiment()\n",
      "ex.add_conditions({\"Dox\" : \"float\"})\n",
      "\n",
      "ex.add_tube(tube1, {\"Dox\" : 10.0})\n",
      "ex.add_tube(tube2, {\"Dox\" : 1.0})"
     ],
     "language": "python",
     "metadata": {},
     "outputs": [],
     "prompt_number": 3
    },
    {
     "cell_type": "code",
     "collapsed": false,
     "input": [
      "hlog = cyto.HlogTransformOp()\n",
      "hlog.name = \"Hlog transformation\"\n",
      "hlog.channels = ['V2-A', 'Y2-A', 'B1-A']\n",
      "ex2 = hlog.apply(ex)"
     ],
     "language": "python",
     "metadata": {},
     "outputs": [],
     "prompt_number": 4
    },
    {
     "cell_type": "code",
     "collapsed": false,
     "input": [
      "h = cyto.HistogramView()\n",
      "h.channel = 'Y2-A'\n",
      "h.huefacet = 'Dox'\n",
      "r = cyto.RangeSelection(view = h)\n",
      "r.plot(ex2)\n",
      "r.min = 3000\n",
      "r.max = 9000"
     ],
     "language": "python",
     "metadata": {},
     "outputs": [],
     "prompt_number": 5
    },
    {
     "cell_type": "code",
     "collapsed": false,
     "input": [
      "r.interactive = True"
     ],
     "language": "python",
     "metadata": {},
     "outputs": [],
     "prompt_number": 6
    },
    {
     "cell_type": "code",
     "collapsed": false,
     "input": [
      "print r.max\n",
      "print r.min"
     ],
     "language": "python",
     "metadata": {},
     "outputs": [
      {
       "output_type": "stream",
       "stream": "stdout",
       "text": [
        "2774.17641292\n",
        "-1219.79386627\n"
       ]
      }
     ],
     "prompt_number": 7
    },
    {
     "cell_type": "code",
     "collapsed": false,
     "input": [],
     "language": "python",
     "metadata": {},
     "outputs": []
    }
   ],
   "metadata": {}
  }
 ]
}