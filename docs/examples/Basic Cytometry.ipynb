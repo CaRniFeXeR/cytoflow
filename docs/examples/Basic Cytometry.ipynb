{
 "metadata": {
  "name": "",
  "signature": "sha256:9330b797fe42b405683b425dab72004bebb0646f688069f26a8af216a485b767"
 },
 "nbformat": 3,
 "nbformat_minor": 0,
 "worksheets": [
  {
   "cells": [
    {
     "cell_type": "markdown",
     "metadata": {},
     "source": [
      "# Basic example cytometry workflow\n",
      "\n",
      "Import the cytoflow module.  We currently depend on Eugene Yurtsev's \n",
      "FlowCytometryTools for basic import functionality; this may change in\n",
      "the future."
     ]
    },
    {
     "cell_type": "code",
     "collapsed": false,
     "input": [
      "import cytoflow as flow\n",
      "import FlowCytometryTools as fc\n",
      "%matplotlib inline"
     ],
     "language": "python",
     "metadata": {},
     "outputs": [],
     "prompt_number": 1
    },
    {
     "cell_type": "markdown",
     "metadata": {},
     "source": [
      "Read in two example files."
     ]
    },
    {
     "cell_type": "code",
     "collapsed": false,
     "input": [
      "tube1 = fc.FCMeasurement(ID='Test 1', \n",
      "                       datafile='../../src/cytoflow/tests/data/Plate01/RFP_Well_A3.fcs')\n",
      "\n",
      "tube2 = fc.FCMeasurement(ID='Test 2', \n",
      "                       datafile='../../src/cytoflow/tests/data/Plate01/CFP_Well_A4.fcs')"
     ],
     "language": "python",
     "metadata": {},
     "outputs": [],
     "prompt_number": 2
    },
    {
     "cell_type": "markdown",
     "metadata": {},
     "source": [
      "Create an `Experiment`.  Define an experimental condition (the amount\n",
      "of Dox inducer) and add the two tubes we just imported, specifying their\n",
      "experimental conditions in a `dict`."
     ]
    },
    {
     "cell_type": "code",
     "collapsed": false,
     "input": [
      "ex = flow.Experiment()\n",
      "ex.add_conditions({\"Dox\" : \"float\"})\n",
      "\n",
      "ex.add_tube(tube1, {\"Dox\" : 10.0})\n",
      "ex.add_tube(tube2, {\"Dox\" : 1.0})"
     ],
     "language": "python",
     "metadata": {},
     "outputs": [],
     "prompt_number": 3
    },
    {
     "cell_type": "markdown",
     "metadata": {},
     "source": [
      "Have a quick look at the experiment.  Instantiate a `View` and tell it which channel\n",
      "we're looking at.  The `huefacet` trait says 'plot each `Dox` condition a different color on \n",
      "the same axes.'"
     ]
    },
    {
     "cell_type": "code",
     "collapsed": false,
     "input": [
      "hist = flow.HistogramView()\n",
      "hist.name = \"Histogram view, by color\"\n",
      "hist.channel = 'Y2-A'\n",
      "hist.huefacet = 'Dox'\n",
      "hist.plot(ex)"
     ],
     "language": "python",
     "metadata": {},
     "outputs": [
      {
       "metadata": {},
       "output_type": "display_data",
       "png": "[encoded data removed]",
       "text": [
        "<matplotlib.figure.Figure at 0x7f3a89f8c710>"
       ]
      }
     ],
     "prompt_number": 4
    },
    {
     "cell_type": "markdown",
     "metadata": {},
     "source": [
      "Alternately, we could have the view plot the two conditions side-by-side."
     ]
    },
    {
     "cell_type": "code",
     "collapsed": false,
     "input": [
      "hist2 = flow.HistogramView()\n",
      "hist2.name = \"Histogram view, side-by-side\"\n",
      "hist2.channel = 'Y2-A'\n",
      "hist2.xfacet = 'Dox'\n",
      "hist2.plot(ex)"
     ],
     "language": "python",
     "metadata": {},
     "outputs": [
      {
       "metadata": {},
       "output_type": "display_data",
       "png": "[encoded data removed]",
       "text": [
        "<matplotlib.figure.Figure at 0x7f3a8942b090>"
       ]
      }
     ],
     "prompt_number": 5
    },
    {
     "cell_type": "markdown",
     "metadata": {},
     "source": [
      "Because this is untransformed data, comparing these distributions is difficult.\n",
      "Let's do an HLog transformation to make them easier to visualize."
     ]
    },
    {
     "cell_type": "code",
     "collapsed": false,
     "input": [
      "hlog = flow.HlogTransformOp()\n",
      "hlog.name = \"Hlog transformation\"\n",
      "hlog.channels = ['V2-A', 'Y2-A', 'B1-A']\n",
      "ex2 = hlog.apply(ex)\n",
      "print ex.version\n",
      "print ex2.version"
     ],
     "language": "python",
     "metadata": {},
     "outputs": [
      {
       "output_type": "stream",
       "stream": "stdout",
       "text": [
        "1\n",
        "2\n"
       ]
      }
     ],
     "prompt_number": 6
    },
    {
     "cell_type": "markdown",
     "metadata": {},
     "source": [
      "Note that an operation's `apply()` method takes an `Experiment` as a parameter and returns\n",
      "an `Experiment`.  The latter is derived from the former; it maintains the same metadata, but\n",
      "with transformed data.  *The operation is not performed in place.*  This is the beginning of\n",
      "the **workflow** concept, which sees more full realization in the GUI.\n",
      "\n",
      "Also note that both the semantics of the histogram view and the hlog operation: they are parameterized separately from the `Experiment` they're operating on.  So, we can just reuse a pre-existing `HistogramView` instance to view the new `Experiment` instance that the hlog operation gave us."
     ]
    },
    {
     "cell_type": "code",
     "collapsed": false,
     "input": [
      "hist.plot(ex2)"
     ],
     "language": "python",
     "metadata": {},
     "outputs": [
      {
       "metadata": {},
       "output_type": "display_data",
       "png": "[encoded data removed]",
       "text": [
        "<matplotlib.figure.Figure at 0x7f3a89f8c550>"
       ]
      }
     ],
     "prompt_number": 7
    },
    {
     "cell_type": "markdown",
     "metadata": {},
     "source": [
      "Now we can see a clear difference between the two tubes: one has a large population > 2000 in the Y2-A channel (transformed value), and the other tube doesn't.  Let's create a threshold gate to separate the populations."
     ]
    },
    {
     "cell_type": "code",
     "collapsed": false,
     "input": [
      "thresh = flow.ThresholdOp()\n",
      "thresh.name = \"Y2-A+\"\n",
      "thresh.channel = 'Y2-A'\n",
      "thresh.threshold = 2005.0\n",
      "\n",
      "ex3 = thresh.apply(ex2)"
     ],
     "language": "python",
     "metadata": {},
     "outputs": [],
     "prompt_number": 8
    },
    {
     "cell_type": "markdown",
     "metadata": {},
     "source": [
      "One more important semantic note.  A gate *does not remove events; it simply adds additional\n",
      "metadata to the events already there.*  You can get at an `Experiment`'s underlying pandas dataframe by looking at the Experiment.data trait and verifying that all three `Experiments` we've created have the same number of events."
     ]
    },
    {
     "cell_type": "code",
     "collapsed": false,
     "input": [
      "print ex.data.shape\n",
      "print ex2.data.shape\n",
      "print ex3.data.shape"
     ],
     "language": "python",
     "metadata": {},
     "outputs": [
      {
       "output_type": "stream",
       "stream": "stdout",
       "text": [
        "(20000, 17)\n",
        "(20000, 17)\n",
        "(20000, 18)\n"
       ]
      }
     ],
     "prompt_number": 9
    },
    {
     "cell_type": "markdown",
     "metadata": {},
     "source": [
      "The last experiment, though, has another column named 'Y2-A+', which is whether each event ended up above the threshold or not."
     ]
    },
    {
     "cell_type": "code",
     "collapsed": false,
     "input": [
      "print ex.data.columns\n",
      "print ex2.data.columns\n",
      "print ex3.data.columns"
     ],
     "language": "python",
     "metadata": {},
     "outputs": [
      {
       "output_type": "stream",
       "stream": "stdout",
       "text": [
        "Index([u'B1-A', u'B1-H', u'B1-W', u'Dox', u'FSC-A', u'FSC-H', u'FSC-W', u'HDR-T', u'SSC-A', u'SSC-H', u'SSC-W', u'V2-A', u'V2-H', u'V2-W', u'Y2-A', u'Y2-H', u'Y2-W'], dtype='object')\n",
        "Index([u'B1-A', u'B1-H', u'B1-W', u'Dox', u'FSC-A', u'FSC-H', u'FSC-W', u'HDR-T', u'SSC-A', u'SSC-H', u'SSC-W', u'V2-A', u'V2-H', u'V2-W', u'Y2-A', u'Y2-H', u'Y2-W'], dtype='object')\n",
        "Index([u'B1-A', u'B1-H', u'B1-W', u'Dox', u'FSC-A', u'FSC-H', u'FSC-W', u'HDR-T', u'SSC-A', u'SSC-H', u'SSC-W', u'V2-A', u'V2-H', u'V2-W', u'Y2-A', u'Y2-H', u'Y2-W', u'Y2-A+'], dtype='object')\n"
       ]
      }
     ],
     "prompt_number": 10
    },
    {
     "cell_type": "markdown",
     "metadata": {},
     "source": [
      "Now we can plot using that additional piece of metadata...."
     ]
    },
    {
     "cell_type": "code",
     "collapsed": false,
     "input": [
      "hist3 = flow.HistogramView()\n",
      "hist3.name = \"Histogram view, grid\"\n",
      "hist3.channel = 'Y2-A'\n",
      "hist3.xfacet = 'Dox'\n",
      "hist3.yfacet = 'Y2-A+'\n",
      "hist3.plot(ex3)"
     ],
     "language": "python",
     "metadata": {},
     "outputs": [
      {
       "metadata": {},
       "output_type": "display_data",
       "png": "[encoded data removed]",
       "text": [
        "<matplotlib.figure.Figure at 0x7f3a89064ed0>"
       ]
      }
     ],
     "prompt_number": 11
    },
    {
     "cell_type": "markdown",
     "metadata": {},
     "source": [
      "....or we can ask \"how many events were above the threshold?\"   Eventually this will be a statistics view, like a bar chart, or a summary table.  For now, we use the pandas API to answer the question."
     ]
    },
    {
     "cell_type": "code",
     "collapsed": false,
     "input": [
      "import numpy as np\n",
      "ex3.data.groupby(['Dox', 'Y2-A+']).size()"
     ],
     "language": "python",
     "metadata": {},
     "outputs": [
      {
       "metadata": {},
       "output_type": "pyout",
       "prompt_number": 13,
       "text": [
        "Dox  Y2-A+\n",
        "1    False    9953\n",
        "     True       47\n",
        "10   False    5610\n",
        "     True     4390\n",
        "dtype: int64"
       ]
      }
     ],
     "prompt_number": 13
    },
    {
     "cell_type": "markdown",
     "metadata": {},
     "source": [
      "I hope this makes the semantics of the cytoflow package clear.  I'm pretty married to them, because I think they support the right combination of ease of use for interactive work and power for scripting/integration into larger programs (like the accompanying GUI.)"
     ]
    }
   ],
   "metadata": {}
  }
 ]
}